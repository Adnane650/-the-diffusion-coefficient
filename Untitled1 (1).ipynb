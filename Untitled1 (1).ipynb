{
  "nbformat": 4,
  "nbformat_minor": 0,
  "metadata": {
    "colab": {
      "provenance": []
    },
    "kernelspec": {
      "name": "python3",
      "display_name": "Python 3"
    },
    "language_info": {
      "name": "python"
    }
  },
  "cells": [
    {
      "cell_type": "code",
      "execution_count": 2,
      "metadata": {
        "colab": {
          "base_uri": "https://localhost:8080/"
        },
        "id": "Pn1UaZeH_2G0",
        "outputId": "78fea1aa-b64e-46db-97c2-ffe88a441bc5"
      },
      "outputs": [
        {
          "output_type": "stream",
          "name": "stdout",
          "text": [
            "Mole fraction of A (x_A): 0.25\n",
            "Base diffusion coefficient D_AB^0 (cm²/s): 2.1e-5\n",
            "Base diffusion coefficient D_BA^0 (cm²/s): 2.67e-5\n",
            "Volume parameter q_A: 1.432\n",
            "Volume parameter q_B: 1.4\n",
            "Parameter r_A: 1.4311\n",
            "Parameter r_B: 0.92\n",
            "Interaction parameter a_AB: -10.7575\n",
            "Interaction parameter a_BA: 194.5302\n",
            "Temperature T (K): 313.13\n",
            "Experimental value of diffusion coefficient (cm²/s): 1.33e-5\n",
            "θ_AA = 0.3882\n",
            "θ_BB = 0.7392\n",
            "θ_AB = 0.2608\n",
            "θ_BA = 0.6118\n",
            "The diffusion coefficient is: 1.3513e-05 cm²/s\n",
            "The error relative to the experimental value is: 1.60%\n"
          ]
        }
      ],
      "source": [
        "import math\n",
        "\n",
        "tau_AA = 1\n",
        "tau_BB = 1\n",
        "\n",
        "def calculate_diffusion():\n",
        "    try:\n",
        "        # Input parameters\n",
        "        x_A = float(input(\"Mole fraction of A (x_A): \"))  # Mole fraction of component A\n",
        "        D_AB_0 = float(input(\"Base diffusion coefficient D_AB^0 (cm²/s): \"))  # Base diffusion coefficient of A\n",
        "        D_BA_0 = float(input(\"Base diffusion coefficient D_BA^0 (cm²/s): \"))  # Base diffusion coefficient of B\n",
        "        q_A = float(input(\"Volume parameter q_A: \"))  # Volume parameter of A\n",
        "        q_B = float(input(\"Volume parameter q_B: \"))  # Volume parameter of B\n",
        "        r_A = float(input(\"Parameter r_A: \"))  # Parameter r of A\n",
        "        r_B = float(input(\"Parameter r_B: \"))  # Parameter r of B\n",
        "        a_AB = float(input(\"Interaction parameter a_AB: \"))  # Interaction parameter between A and B\n",
        "        a_BA = float(input(\"Interaction parameter a_BA: \"))  # Interaction parameter between B and A\n",
        "        T = float(input(\"Temperature T (K): \"))  # Temperature in Kelvin\n",
        "        D_exp = float(input(\"Experimental value of diffusion coefficient (cm²/s): \"))  # Experimental value for comparison\n",
        "\n",
        "        # Calculate X_B\n",
        "        x_B = 1 - x_A\n",
        "\n",
        "        # Calculate lamda\n",
        "        y_A=(r_A)**(1/3)\n",
        "        y_B=(r_B)**(1/3)\n",
        "\n",
        "        # Calculate phi (surface fraction)\n",
        "        phi_A = (x_A * y_A) / (x_A * y_A + (1 - x_A) * y_B)\n",
        "        phi_B = ((1 - x_A) * y_B) / (x_A * y_A + (1 - x_A) * y_B)\n",
        "\n",
        "        # Calculate theta (volume parameter)\n",
        "        theta_A = (x_A * q_A) / (x_A * q_A + x_B * q_B)\n",
        "        theta_B = (x_B * q_B) / (x_A * q_A + x_B * q_B)\n",
        "\n",
        "        # Calculate tau values\n",
        "        tau_AB = math.exp(-a_AB / T)\n",
        "        tau_BA = math.exp(-a_BA / T)\n",
        "\n",
        "        # Calculate theta_AA and theta_BB\n",
        "        theta_AA = (theta_A * tau_AA) / (theta_A * tau_AA + theta_B * tau_BA)\n",
        "        theta_BB = (theta_B * tau_BB) / (theta_A * tau_AB + theta_B * tau_BB)\n",
        "\n",
        "        # Calculate theta_AB and theta_BA\n",
        "        theta_AB = (theta_A * tau_AB) / (theta_A * tau_AB + theta_B * tau_BB)\n",
        "        theta_BA = (theta_B * tau_BA) / (theta_A * tau_AA + theta_B * tau_BA)\n",
        "\n",
        "        # Display results\n",
        "        print(f\"θ_AA = {theta_AA:.4f}\")\n",
        "        print(f\"θ_BB = {theta_BB:.4f}\")\n",
        "        print(f\"θ_AB = {theta_AB:.4f}\")\n",
        "        print(f\"θ_BA = {theta_BA:.4f}\")\n",
        "\n",
        "        # Equation for calculating the logarithm of the diffusion coefficient\n",
        "        ln_D_AB = (\n",
        "            (x_A * math.log(D_BA_0) + (1 - x_A) * math.log(D_AB_0)) +\n",
        "            2 * (x_A * math.log(x_A / phi_A) + (1 - x_A) * math.log((1 - x_A) / phi_B)) +\n",
        "            2 * x_A * (1 - x_A) * (\n",
        "                (phi_A / x_A) * (1 - (y_A / y_B)) + (phi_B / (1 - x_A)) * (1 - (y_B / y_A))\n",
        "            ) +\n",
        "            x_A * q_B * ((1 - theta_AB**2) * math.log(tau_AB) + (1 - theta_AA**2) * tau_BA * math.log(tau_BA)) +\n",
        "            (1 - x_A) * q_A * ((1 - theta_BA**2) * math.log(tau_BA) + (1 - theta_BB**2) * tau_AB * math.log(tau_AB))\n",
        "        )\n",
        "\n",
        "        # Calculate the final diffusion coefficient\n",
        "        D_AB = math.exp(ln_D_AB)\n",
        "\n",
        "        # Calculate the relative error between the calculated and experimental values\n",
        "        error = abs((D_AB - D_exp) / D_exp) * 100\n",
        "\n",
        "        # Display final values\n",
        "        print(f\"The diffusion coefficient is: {D_AB:.4e} cm²/s\")\n",
        "        print(f\"The error relative to the experimental value is: {error:.2f}%\")\n",
        "    except ValueError:\n",
        "        # If the user did not enter valid numerical values\n",
        "        print(\"Error: Please enter valid numerical values.\")\n",
        "\n",
        "if __name__ == \"__main__\":\n",
        "    calculate_diffusion()"
      ]
    }
  ]
}